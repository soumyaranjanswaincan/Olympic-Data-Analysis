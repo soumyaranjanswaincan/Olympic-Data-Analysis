{
 "cells": [
  {
   "cell_type": "code",
   "execution_count": 94,
   "metadata": {},
   "outputs": [],
   "source": [
    "import matplotlib.pyplot as plt\n",
    "import pandas as pd\n",
    "import geopandas as gpd\n",
    "import plotly.express as px\n",
    "import numpy as np\n",
    "import requests\n",
    "import time\n",
    "from scipy.stats import linregress\n",
    "from datetime import datetime\n",
    "from ipywidgets import interact"
   ]
  },
  {
   "cell_type": "code",
   "execution_count": 95,
   "metadata": {},
   "outputs": [
    {
     "data": {
      "text/html": [
       "<div>\n",
       "<style scoped>\n",
       "    .dataframe tbody tr th:only-of-type {\n",
       "        vertical-align: middle;\n",
       "    }\n",
       "\n",
       "    .dataframe tbody tr th {\n",
       "        vertical-align: top;\n",
       "    }\n",
       "\n",
       "    .dataframe thead th {\n",
       "        text-align: right;\n",
       "    }\n",
       "</style>\n",
       "<table border=\"1\" class=\"dataframe\">\n",
       "  <thead>\n",
       "    <tr style=\"text-align: right;\">\n",
       "      <th></th>\n",
       "      <th>ID</th>\n",
       "      <th>Name</th>\n",
       "      <th>Sex</th>\n",
       "      <th>Age</th>\n",
       "      <th>Height</th>\n",
       "      <th>Weight</th>\n",
       "      <th>Team</th>\n",
       "      <th>NOC</th>\n",
       "      <th>Games</th>\n",
       "      <th>Year</th>\n",
       "      <th>Season</th>\n",
       "      <th>City</th>\n",
       "      <th>Sport</th>\n",
       "      <th>Event</th>\n",
       "      <th>Medal</th>\n",
       "      <th>region</th>\n",
       "      <th>Host_Country</th>\n",
       "    </tr>\n",
       "  </thead>\n",
       "  <tbody>\n",
       "    <tr>\n",
       "      <th>0</th>\n",
       "      <td>1</td>\n",
       "      <td>A Dijiang</td>\n",
       "      <td>M</td>\n",
       "      <td>24.0</td>\n",
       "      <td>180.0</td>\n",
       "      <td>80.0</td>\n",
       "      <td>China</td>\n",
       "      <td>CHN</td>\n",
       "      <td>1992 Summer</td>\n",
       "      <td>1992</td>\n",
       "      <td>Summer</td>\n",
       "      <td>Barcelona</td>\n",
       "      <td>Basketball</td>\n",
       "      <td>Basketball Men's Basketball</td>\n",
       "      <td>DNW</td>\n",
       "      <td>China</td>\n",
       "      <td>Spain</td>\n",
       "    </tr>\n",
       "    <tr>\n",
       "      <th>1</th>\n",
       "      <td>2</td>\n",
       "      <td>A Lamusi</td>\n",
       "      <td>M</td>\n",
       "      <td>23.0</td>\n",
       "      <td>170.0</td>\n",
       "      <td>60.0</td>\n",
       "      <td>China</td>\n",
       "      <td>CHN</td>\n",
       "      <td>2012 Summer</td>\n",
       "      <td>2012</td>\n",
       "      <td>Summer</td>\n",
       "      <td>London</td>\n",
       "      <td>Judo</td>\n",
       "      <td>Judo Men's Extra-Lightweight</td>\n",
       "      <td>DNW</td>\n",
       "      <td>China</td>\n",
       "      <td>United Kingdom</td>\n",
       "    </tr>\n",
       "    <tr>\n",
       "      <th>2</th>\n",
       "      <td>3</td>\n",
       "      <td>Gunnar Nielsen Aaby</td>\n",
       "      <td>M</td>\n",
       "      <td>24.0</td>\n",
       "      <td>175.0</td>\n",
       "      <td>71.0</td>\n",
       "      <td>Denmark</td>\n",
       "      <td>DEN</td>\n",
       "      <td>1920 Summer</td>\n",
       "      <td>1920</td>\n",
       "      <td>Summer</td>\n",
       "      <td>Antwerpen</td>\n",
       "      <td>Football</td>\n",
       "      <td>Football Men's Football</td>\n",
       "      <td>DNW</td>\n",
       "      <td>Denmark</td>\n",
       "      <td>Belgium</td>\n",
       "    </tr>\n",
       "    <tr>\n",
       "      <th>3</th>\n",
       "      <td>4</td>\n",
       "      <td>Edgar Lindenau Aabye</td>\n",
       "      <td>M</td>\n",
       "      <td>34.0</td>\n",
       "      <td>175.0</td>\n",
       "      <td>71.0</td>\n",
       "      <td>Denmark/Sweden</td>\n",
       "      <td>DEN</td>\n",
       "      <td>1900 Summer</td>\n",
       "      <td>1900</td>\n",
       "      <td>Summer</td>\n",
       "      <td>Paris</td>\n",
       "      <td>Tug-Of-War</td>\n",
       "      <td>Tug-Of-War Men's Tug-Of-War</td>\n",
       "      <td>Gold</td>\n",
       "      <td>Denmark</td>\n",
       "      <td>France</td>\n",
       "    </tr>\n",
       "    <tr>\n",
       "      <th>4</th>\n",
       "      <td>5</td>\n",
       "      <td>Christine Jacoba Aaftink</td>\n",
       "      <td>F</td>\n",
       "      <td>21.0</td>\n",
       "      <td>185.0</td>\n",
       "      <td>82.0</td>\n",
       "      <td>Netherlands</td>\n",
       "      <td>NED</td>\n",
       "      <td>1988 Winter</td>\n",
       "      <td>1988</td>\n",
       "      <td>Winter</td>\n",
       "      <td>Calgary</td>\n",
       "      <td>Speed Skating</td>\n",
       "      <td>Speed Skating Women's 500 metres</td>\n",
       "      <td>DNW</td>\n",
       "      <td>Netherlands</td>\n",
       "      <td>Canada</td>\n",
       "    </tr>\n",
       "  </tbody>\n",
       "</table>\n",
       "</div>"
      ],
      "text/plain": [
       "   ID                      Name Sex   Age  Height  Weight            Team  \\\n",
       "0   1                 A Dijiang   M  24.0   180.0    80.0           China   \n",
       "1   2                  A Lamusi   M  23.0   170.0    60.0           China   \n",
       "2   3       Gunnar Nielsen Aaby   M  24.0   175.0    71.0         Denmark   \n",
       "3   4      Edgar Lindenau Aabye   M  34.0   175.0    71.0  Denmark/Sweden   \n",
       "4   5  Christine Jacoba Aaftink   F  21.0   185.0    82.0     Netherlands   \n",
       "\n",
       "   NOC        Games  Year  Season       City          Sport  \\\n",
       "0  CHN  1992 Summer  1992  Summer  Barcelona     Basketball   \n",
       "1  CHN  2012 Summer  2012  Summer     London           Judo   \n",
       "2  DEN  1920 Summer  1920  Summer  Antwerpen       Football   \n",
       "3  DEN  1900 Summer  1900  Summer      Paris     Tug-Of-War   \n",
       "4  NED  1988 Winter  1988  Winter    Calgary  Speed Skating   \n",
       "\n",
       "                              Event Medal       region    Host_Country  \n",
       "0       Basketball Men's Basketball   DNW        China           Spain  \n",
       "1      Judo Men's Extra-Lightweight   DNW        China  United Kingdom  \n",
       "2           Football Men's Football   DNW      Denmark         Belgium  \n",
       "3       Tug-Of-War Men's Tug-Of-War  Gold      Denmark          France  \n",
       "4  Speed Skating Women's 500 metres   DNW  Netherlands          Canada  "
      ]
     },
     "execution_count": 95,
     "metadata": {},
     "output_type": "execute_result"
    }
   ],
   "source": [
    "# Load in csv\n",
    "athelete_df = pd.read_csv(\"Clean_data.csv\")\n",
    "athelete_df.head()"
   ]
  },
  {
   "cell_type": "code",
   "execution_count": 96,
   "metadata": {},
   "outputs": [
    {
     "data": {
      "text/html": [
       "<div>\n",
       "<style scoped>\n",
       "    .dataframe tbody tr th:only-of-type {\n",
       "        vertical-align: middle;\n",
       "    }\n",
       "\n",
       "    .dataframe tbody tr th {\n",
       "        vertical-align: top;\n",
       "    }\n",
       "\n",
       "    .dataframe thead th {\n",
       "        text-align: right;\n",
       "    }\n",
       "</style>\n",
       "<table border=\"1\" class=\"dataframe\">\n",
       "  <thead>\n",
       "    <tr style=\"text-align: right;\">\n",
       "      <th></th>\n",
       "      <th>Host_Country</th>\n",
       "      <th>Year</th>\n",
       "      <th>region</th>\n",
       "      <th>Medal_Count</th>\n",
       "    </tr>\n",
       "  </thead>\n",
       "  <tbody>\n",
       "    <tr>\n",
       "      <th>534</th>\n",
       "      <td>Greece</td>\n",
       "      <td>1896</td>\n",
       "      <td>United Kingdom</td>\n",
       "      <td>9</td>\n",
       "    </tr>\n",
       "    <tr>\n",
       "      <th>533</th>\n",
       "      <td>Greece</td>\n",
       "      <td>1896</td>\n",
       "      <td>Switzerland</td>\n",
       "      <td>3</td>\n",
       "    </tr>\n",
       "    <tr>\n",
       "      <th>526</th>\n",
       "      <td>Greece</td>\n",
       "      <td>1896</td>\n",
       "      <td>Australia</td>\n",
       "      <td>3</td>\n",
       "    </tr>\n",
       "    <tr>\n",
       "      <th>527</th>\n",
       "      <td>Greece</td>\n",
       "      <td>1896</td>\n",
       "      <td>Austria</td>\n",
       "      <td>5</td>\n",
       "    </tr>\n",
       "    <tr>\n",
       "      <th>528</th>\n",
       "      <td>Greece</td>\n",
       "      <td>1896</td>\n",
       "      <td>Denmark</td>\n",
       "      <td>6</td>\n",
       "    </tr>\n",
       "  </tbody>\n",
       "</table>\n",
       "</div>"
      ],
      "text/plain": [
       "    Host_Country  Year          region  Medal_Count\n",
       "534       Greece  1896  United Kingdom            9\n",
       "533       Greece  1896     Switzerland            3\n",
       "526       Greece  1896       Australia            3\n",
       "527       Greece  1896         Austria            5\n",
       "528       Greece  1896         Denmark            6"
      ]
     },
     "execution_count": 96,
     "metadata": {},
     "output_type": "execute_result"
    }
   ],
   "source": [
    "# Medal Winners for Summer games\n",
    "athelete_df_summer = athelete_df[(athelete_df['Medal']!='DNW') & (athelete_df['Season']=='Summer')]\n",
    "athelete_df_summer = athelete_df_summer.groupby(['Host_Country','Year','region'])['Medal'].count().reset_index(name='Medal_Count')\n",
    "athelete_df_summer = athelete_df_summer.sort_values('Year')\n",
    "athelete_df_summer.head()"
   ]
  },
  {
   "cell_type": "code",
   "execution_count": 97,
   "metadata": {},
   "outputs": [
    {
     "data": {
      "text/html": [
       "<div>\n",
       "<style scoped>\n",
       "    .dataframe tbody tr th:only-of-type {\n",
       "        vertical-align: middle;\n",
       "    }\n",
       "\n",
       "    .dataframe tbody tr th {\n",
       "        vertical-align: top;\n",
       "    }\n",
       "\n",
       "    .dataframe thead th {\n",
       "        text-align: right;\n",
       "    }\n",
       "</style>\n",
       "<table border=\"1\" class=\"dataframe\">\n",
       "  <thead>\n",
       "    <tr style=\"text-align: right;\">\n",
       "      <th></th>\n",
       "      <th>Host_Country</th>\n",
       "      <th>Year</th>\n",
       "      <th>region</th>\n",
       "      <th>Medal_Count</th>\n",
       "    </tr>\n",
       "  </thead>\n",
       "  <tbody>\n",
       "    <tr>\n",
       "      <th>72</th>\n",
       "      <td>France</td>\n",
       "      <td>1924</td>\n",
       "      <td>Austria</td>\n",
       "      <td>4</td>\n",
       "    </tr>\n",
       "    <tr>\n",
       "      <th>73</th>\n",
       "      <td>France</td>\n",
       "      <td>1924</td>\n",
       "      <td>Belgium</td>\n",
       "      <td>5</td>\n",
       "    </tr>\n",
       "    <tr>\n",
       "      <th>71</th>\n",
       "      <td>France</td>\n",
       "      <td>1924</td>\n",
       "      <td>Australia</td>\n",
       "      <td>1</td>\n",
       "    </tr>\n",
       "    <tr>\n",
       "      <th>79</th>\n",
       "      <td>France</td>\n",
       "      <td>1924</td>\n",
       "      <td>Norway</td>\n",
       "      <td>17</td>\n",
       "    </tr>\n",
       "    <tr>\n",
       "      <th>80</th>\n",
       "      <td>France</td>\n",
       "      <td>1924</td>\n",
       "      <td>Sweden</td>\n",
       "      <td>9</td>\n",
       "    </tr>\n",
       "    <tr>\n",
       "      <th>...</th>\n",
       "      <td>...</td>\n",
       "      <td>...</td>\n",
       "      <td>...</td>\n",
       "      <td>...</td>\n",
       "    </tr>\n",
       "    <tr>\n",
       "      <th>283</th>\n",
       "      <td>Russia</td>\n",
       "      <td>2014</td>\n",
       "      <td>United Kingdom</td>\n",
       "      <td>10</td>\n",
       "    </tr>\n",
       "    <tr>\n",
       "      <th>282</th>\n",
       "      <td>Russia</td>\n",
       "      <td>2014</td>\n",
       "      <td>Ukraine</td>\n",
       "      <td>5</td>\n",
       "    </tr>\n",
       "    <tr>\n",
       "      <th>281</th>\n",
       "      <td>Russia</td>\n",
       "      <td>2014</td>\n",
       "      <td>Switzerland</td>\n",
       "      <td>30</td>\n",
       "    </tr>\n",
       "    <tr>\n",
       "      <th>271</th>\n",
       "      <td>Russia</td>\n",
       "      <td>2014</td>\n",
       "      <td>Kazakhstan</td>\n",
       "      <td>1</td>\n",
       "    </tr>\n",
       "    <tr>\n",
       "      <th>284</th>\n",
       "      <td>Russia</td>\n",
       "      <td>2014</td>\n",
       "      <td>United States of America</td>\n",
       "      <td>64</td>\n",
       "    </tr>\n",
       "  </tbody>\n",
       "</table>\n",
       "<p>376 rows × 4 columns</p>\n",
       "</div>"
      ],
      "text/plain": [
       "    Host_Country  Year                    region  Medal_Count\n",
       "72        France  1924                   Austria            4\n",
       "73        France  1924                   Belgium            5\n",
       "71        France  1924                 Australia            1\n",
       "79        France  1924                    Norway           17\n",
       "80        France  1924                    Sweden            9\n",
       "..           ...   ...                       ...          ...\n",
       "283       Russia  2014            United Kingdom           10\n",
       "282       Russia  2014                   Ukraine            5\n",
       "281       Russia  2014               Switzerland           30\n",
       "271       Russia  2014                Kazakhstan            1\n",
       "284       Russia  2014  United States of America           64\n",
       "\n",
       "[376 rows x 4 columns]"
      ]
     },
     "execution_count": 97,
     "metadata": {},
     "output_type": "execute_result"
    }
   ],
   "source": [
    "#Medal Winners for Winter games\n",
    "athelete_df_winter = athelete_df[(athelete_df['Medal']!='DNW') & (athelete_df['Season']=='Winter')]\n",
    "athelete_df_winter = athelete_df_winter.groupby(['Host_Country','Year','region'])['Medal'].count().reset_index(name='Medal_Count')\n",
    "athelete_df_winter = athelete_df_winter.sort_values('Year')\n",
    "athelete_df_winter"
   ]
  },
  {
   "cell_type": "code",
   "execution_count": 98,
   "metadata": {},
   "outputs": [
    {
     "data": {
      "text/html": [
       "<div>\n",
       "<style scoped>\n",
       "    .dataframe tbody tr th:only-of-type {\n",
       "        vertical-align: middle;\n",
       "    }\n",
       "\n",
       "    .dataframe tbody tr th {\n",
       "        vertical-align: top;\n",
       "    }\n",
       "\n",
       "    .dataframe thead th {\n",
       "        text-align: right;\n",
       "    }\n",
       "</style>\n",
       "<table border=\"1\" class=\"dataframe\">\n",
       "  <thead>\n",
       "    <tr style=\"text-align: right;\">\n",
       "      <th></th>\n",
       "      <th>Host_Country</th>\n",
       "      <th>Year</th>\n",
       "      <th>region</th>\n",
       "      <th>Medal_Count</th>\n",
       "    </tr>\n",
       "  </thead>\n",
       "  <tbody>\n",
       "    <tr>\n",
       "      <th>535</th>\n",
       "      <td>Greece</td>\n",
       "      <td>1896</td>\n",
       "      <td>United States of America</td>\n",
       "      <td>20</td>\n",
       "    </tr>\n",
       "    <tr>\n",
       "      <th>415</th>\n",
       "      <td>France</td>\n",
       "      <td>1900</td>\n",
       "      <td>United States of America</td>\n",
       "      <td>63</td>\n",
       "    </tr>\n",
       "    <tr>\n",
       "      <th>1116</th>\n",
       "      <td>United States of America</td>\n",
       "      <td>1904</td>\n",
       "      <td>United States of America</td>\n",
       "      <td>394</td>\n",
       "    </tr>\n",
       "    <tr>\n",
       "      <th>553</th>\n",
       "      <td>Greece</td>\n",
       "      <td>1906</td>\n",
       "      <td>United States of America</td>\n",
       "      <td>24</td>\n",
       "    </tr>\n",
       "    <tr>\n",
       "      <th>983</th>\n",
       "      <td>United Kingdom</td>\n",
       "      <td>1908</td>\n",
       "      <td>United States of America</td>\n",
       "      <td>65</td>\n",
       "    </tr>\n",
       "  </tbody>\n",
       "</table>\n",
       "</div>"
      ],
      "text/plain": [
       "                  Host_Country  Year                    region  Medal_Count\n",
       "535                     Greece  1896  United States of America           20\n",
       "415                     France  1900  United States of America           63\n",
       "1116  United States of America  1904  United States of America          394\n",
       "553                     Greece  1906  United States of America           24\n",
       "983             United Kingdom  1908  United States of America           65"
      ]
     },
     "execution_count": 98,
     "metadata": {},
     "output_type": "execute_result"
    }
   ],
   "source": [
    "# performance of USA for summer olympic\n",
    "USA_df_summer = athelete_df_summer[athelete_df_summer['region'] =='United States of America']\n",
    "USA_df_summer.head()"
   ]
  },
  {
   "cell_type": "code",
   "execution_count": 99,
   "metadata": {},
   "outputs": [
    {
     "data": {
      "text/html": [
       "<div>\n",
       "<style scoped>\n",
       "    .dataframe tbody tr th:only-of-type {\n",
       "        vertical-align: middle;\n",
       "    }\n",
       "\n",
       "    .dataframe tbody tr th {\n",
       "        vertical-align: top;\n",
       "    }\n",
       "\n",
       "    .dataframe thead th {\n",
       "        text-align: right;\n",
       "    }\n",
       "</style>\n",
       "<table border=\"1\" class=\"dataframe\">\n",
       "  <thead>\n",
       "    <tr style=\"text-align: right;\">\n",
       "      <th></th>\n",
       "      <th>Host_Country</th>\n",
       "      <th>Year</th>\n",
       "      <th>region</th>\n",
       "      <th>Medal_Count</th>\n",
       "    </tr>\n",
       "  </thead>\n",
       "  <tbody>\n",
       "    <tr>\n",
       "      <th>1116</th>\n",
       "      <td>United States of America</td>\n",
       "      <td>1904</td>\n",
       "      <td>United States of America</td>\n",
       "      <td>394</td>\n",
       "    </tr>\n",
       "    <tr>\n",
       "      <th>1143</th>\n",
       "      <td>United States of America</td>\n",
       "      <td>1932</td>\n",
       "      <td>United States of America</td>\n",
       "      <td>189</td>\n",
       "    </tr>\n",
       "    <tr>\n",
       "      <th>1189</th>\n",
       "      <td>United States of America</td>\n",
       "      <td>1984</td>\n",
       "      <td>United States of America</td>\n",
       "      <td>352</td>\n",
       "    </tr>\n",
       "    <tr>\n",
       "      <th>1267</th>\n",
       "      <td>United States of America</td>\n",
       "      <td>1996</td>\n",
       "      <td>United States of America</td>\n",
       "      <td>259</td>\n",
       "    </tr>\n",
       "  </tbody>\n",
       "</table>\n",
       "</div>"
      ],
      "text/plain": [
       "                  Host_Country  Year                    region  Medal_Count\n",
       "1116  United States of America  1904  United States of America          394\n",
       "1143  United States of America  1932  United States of America          189\n",
       "1189  United States of America  1984  United States of America          352\n",
       "1267  United States of America  1996  United States of America          259"
      ]
     },
     "execution_count": 99,
     "metadata": {},
     "output_type": "execute_result"
    }
   ],
   "source": [
    "# USA as host for summer\n",
    "USA_summer_host_df = USA_df_summer[(USA_df_summer['region'] =='United States of America') & (USA_df_summer['Host_Country'] =='United States of America')]\n",
    "USA_summer_host_df.head()"
   ]
  },
  {
   "cell_type": "code",
   "execution_count": 100,
   "metadata": {},
   "outputs": [
    {
     "data": {
      "image/png": "[encoded data removed]",
      "text/plain": [
       "<Figure size 640x480 with 1 Axes>"
      ]
     },
     "metadata": {},
     "output_type": "display_data"
    }
   ],
   "source": [
    "# Plot for Medals by Years\n",
    "plt.plot(USA_df_summer['Year'], USA_df_summer['Medal_Count'], c='blue')\n",
    "plt.scatter(USA_summer_host_df['Year'], USA_summer_host_df['Medal_Count'], c='r', label='Medals USA - hosted by USA')\n",
    "\n",
    "# Title and Axis\n",
    "plt.title('Medals won by USA in the Summer Olympic Games')\n",
    "plt.xlabel('Years')\n",
    "plt.ylabel('Medals')\n",
    "plt.legend()\n",
    "plt.show()"
   ]
  },
  {
   "cell_type": "code",
   "execution_count": 101,
   "metadata": {},
   "outputs": [
    {
     "data": {
      "text/html": [
       "<div>\n",
       "<style scoped>\n",
       "    .dataframe tbody tr th:only-of-type {\n",
       "        vertical-align: middle;\n",
       "    }\n",
       "\n",
       "    .dataframe tbody tr th {\n",
       "        vertical-align: top;\n",
       "    }\n",
       "\n",
       "    .dataframe thead th {\n",
       "        text-align: right;\n",
       "    }\n",
       "</style>\n",
       "<table border=\"1\" class=\"dataframe\">\n",
       "  <thead>\n",
       "    <tr style=\"text-align: right;\">\n",
       "      <th></th>\n",
       "      <th>Host_Country</th>\n",
       "      <th>Year</th>\n",
       "      <th>region</th>\n",
       "      <th>Medal_Count</th>\n",
       "    </tr>\n",
       "  </thead>\n",
       "  <tbody>\n",
       "    <tr>\n",
       "      <th>83</th>\n",
       "      <td>France</td>\n",
       "      <td>1924</td>\n",
       "      <td>United States of America</td>\n",
       "      <td>12</td>\n",
       "    </tr>\n",
       "    <tr>\n",
       "      <th>296</th>\n",
       "      <td>Switzerland</td>\n",
       "      <td>1928</td>\n",
       "      <td>United States of America</td>\n",
       "      <td>14</td>\n",
       "    </tr>\n",
       "    <tr>\n",
       "      <th>319</th>\n",
       "      <td>United States of America</td>\n",
       "      <td>1932</td>\n",
       "      <td>United States of America</td>\n",
       "      <td>34</td>\n",
       "    </tr>\n",
       "    <tr>\n",
       "      <th>128</th>\n",
       "      <td>Germany</td>\n",
       "      <td>1936</td>\n",
       "      <td>United States of America</td>\n",
       "      <td>16</td>\n",
       "    </tr>\n",
       "    <tr>\n",
       "      <th>309</th>\n",
       "      <td>Switzerland</td>\n",
       "      <td>1948</td>\n",
       "      <td>United States of America</td>\n",
       "      <td>16</td>\n",
       "    </tr>\n",
       "  </tbody>\n",
       "</table>\n",
       "</div>"
      ],
      "text/plain": [
       "                 Host_Country  Year                    region  Medal_Count\n",
       "83                     France  1924  United States of America           12\n",
       "296               Switzerland  1928  United States of America           14\n",
       "319  United States of America  1932  United States of America           34\n",
       "128                   Germany  1936  United States of America           16\n",
       "309               Switzerland  1948  United States of America           16"
      ]
     },
     "execution_count": 101,
     "metadata": {},
     "output_type": "execute_result"
    }
   ],
   "source": [
    "# performance of USA for winter olympic\n",
    "USA_df_winter = athelete_df_winter[athelete_df_winter['region'] =='United States of America']\n",
    "USA_df_winter.head()"
   ]
  },
  {
   "cell_type": "code",
   "execution_count": 102,
   "metadata": {},
   "outputs": [
    {
     "data": {
      "text/html": [
       "<div>\n",
       "<style scoped>\n",
       "    .dataframe tbody tr th:only-of-type {\n",
       "        vertical-align: middle;\n",
       "    }\n",
       "\n",
       "    .dataframe tbody tr th {\n",
       "        vertical-align: top;\n",
       "    }\n",
       "\n",
       "    .dataframe thead th {\n",
       "        text-align: right;\n",
       "    }\n",
       "</style>\n",
       "<table border=\"1\" class=\"dataframe\">\n",
       "  <thead>\n",
       "    <tr style=\"text-align: right;\">\n",
       "      <th></th>\n",
       "      <th>Host_Country</th>\n",
       "      <th>Year</th>\n",
       "      <th>region</th>\n",
       "      <th>Medal_Count</th>\n",
       "    </tr>\n",
       "  </thead>\n",
       "  <tbody>\n",
       "    <tr>\n",
       "      <th>319</th>\n",
       "      <td>United States of America</td>\n",
       "      <td>1932</td>\n",
       "      <td>United States of America</td>\n",
       "      <td>34</td>\n",
       "    </tr>\n",
       "    <tr>\n",
       "      <th>333</th>\n",
       "      <td>United States of America</td>\n",
       "      <td>1960</td>\n",
       "      <td>United States of America</td>\n",
       "      <td>27</td>\n",
       "    </tr>\n",
       "    <tr>\n",
       "      <th>351</th>\n",
       "      <td>United States of America</td>\n",
       "      <td>1980</td>\n",
       "      <td>United States of America</td>\n",
       "      <td>30</td>\n",
       "    </tr>\n",
       "    <tr>\n",
       "      <th>375</th>\n",
       "      <td>United States of America</td>\n",
       "      <td>2002</td>\n",
       "      <td>United States of America</td>\n",
       "      <td>84</td>\n",
       "    </tr>\n",
       "  </tbody>\n",
       "</table>\n",
       "</div>"
      ],
      "text/plain": [
       "                 Host_Country  Year                    region  Medal_Count\n",
       "319  United States of America  1932  United States of America           34\n",
       "333  United States of America  1960  United States of America           27\n",
       "351  United States of America  1980  United States of America           30\n",
       "375  United States of America  2002  United States of America           84"
      ]
     },
     "execution_count": 102,
     "metadata": {},
     "output_type": "execute_result"
    }
   ],
   "source": [
    "# USA as host for winter\n",
    "USA_winter_host_df = USA_df_winter[(USA_df_winter['region'] =='United States of America') & (USA_df_winter['Host_Country'] =='United States of America')]\n",
    "USA_winter_host_df.head()"
   ]
  },
  {
   "cell_type": "code",
   "execution_count": 103,
   "metadata": {},
   "outputs": [
    {
     "data": {
      "image/png": "[encoded data removed]",
      "text/plain": [
       "<Figure size 640x480 with 1 Axes>"
      ]
     },
     "metadata": {},
     "output_type": "display_data"
    }
   ],
   "source": [
    "# Plot for Medals by Years\n",
    "plt.plot(USA_df_winter['Year'], USA_df_winter['Medal_Count'], c='blue')\n",
    "plt.scatter(USA_winter_host_df['Year'], USA_winter_host_df['Medal_Count'], c='r', label='Medals USA - hosted by USA')\n",
    "\n",
    "# Title and Axis\n",
    "plt.title('Medals won by USA in the Winter Olympic Games')\n",
    "plt.xlabel('Years')\n",
    "plt.ylabel('Medals')\n",
    "plt.legend()\n",
    "plt.show()"
   ]
  },
  {
   "cell_type": "code",
   "execution_count": 104,
   "metadata": {},
   "outputs": [
    {
     "data": {
      "text/html": [
       "<div>\n",
       "<style scoped>\n",
       "    .dataframe tbody tr th:only-of-type {\n",
       "        vertical-align: middle;\n",
       "    }\n",
       "\n",
       "    .dataframe tbody tr th {\n",
       "        vertical-align: top;\n",
       "    }\n",
       "\n",
       "    .dataframe thead th {\n",
       "        text-align: right;\n",
       "    }\n",
       "</style>\n",
       "<table border=\"1\" class=\"dataframe\">\n",
       "  <thead>\n",
       "    <tr style=\"text-align: right;\">\n",
       "      <th></th>\n",
       "      <th>Host_Country</th>\n",
       "      <th>Year</th>\n",
       "      <th>region</th>\n",
       "      <th>Medal_Count</th>\n",
       "    </tr>\n",
       "  </thead>\n",
       "  <tbody>\n",
       "    <tr>\n",
       "      <th>529</th>\n",
       "      <td>Greece</td>\n",
       "      <td>1896</td>\n",
       "      <td>France</td>\n",
       "      <td>11</td>\n",
       "    </tr>\n",
       "    <tr>\n",
       "      <th>400</th>\n",
       "      <td>France</td>\n",
       "      <td>1900</td>\n",
       "      <td>France</td>\n",
       "      <td>235</td>\n",
       "    </tr>\n",
       "    <tr>\n",
       "      <th>1109</th>\n",
       "      <td>United States of America</td>\n",
       "      <td>1904</td>\n",
       "      <td>France</td>\n",
       "      <td>2</td>\n",
       "    </tr>\n",
       "    <tr>\n",
       "      <th>543</th>\n",
       "      <td>Greece</td>\n",
       "      <td>1906</td>\n",
       "      <td>France</td>\n",
       "      <td>64</td>\n",
       "    </tr>\n",
       "    <tr>\n",
       "      <th>972</th>\n",
       "      <td>United Kingdom</td>\n",
       "      <td>1908</td>\n",
       "      <td>France</td>\n",
       "      <td>40</td>\n",
       "    </tr>\n",
       "  </tbody>\n",
       "</table>\n",
       "</div>"
      ],
      "text/plain": [
       "                  Host_Country  Year  region  Medal_Count\n",
       "529                     Greece  1896  France           11\n",
       "400                     France  1900  France          235\n",
       "1109  United States of America  1904  France            2\n",
       "543                     Greece  1906  France           64\n",
       "972             United Kingdom  1908  France           40"
      ]
     },
     "execution_count": 104,
     "metadata": {},
     "output_type": "execute_result"
    }
   ],
   "source": [
    "# performance of France for summer olympic\n",
    "France_df_summer = athelete_df_summer[athelete_df_summer['region'] =='France']\n",
    "France_df_summer.head()"
   ]
  },
  {
   "cell_type": "code",
   "execution_count": 105,
   "metadata": {},
   "outputs": [
    {
     "data": {
      "text/html": [
       "<div>\n",
       "<style scoped>\n",
       "    .dataframe tbody tr th:only-of-type {\n",
       "        vertical-align: middle;\n",
       "    }\n",
       "\n",
       "    .dataframe tbody tr th {\n",
       "        vertical-align: top;\n",
       "    }\n",
       "\n",
       "    .dataframe thead th {\n",
       "        text-align: right;\n",
       "    }\n",
       "</style>\n",
       "<table border=\"1\" class=\"dataframe\">\n",
       "  <thead>\n",
       "    <tr style=\"text-align: right;\">\n",
       "      <th></th>\n",
       "      <th>Host_Country</th>\n",
       "      <th>Year</th>\n",
       "      <th>region</th>\n",
       "      <th>Medal_Count</th>\n",
       "    </tr>\n",
       "  </thead>\n",
       "  <tbody>\n",
       "    <tr>\n",
       "      <th>400</th>\n",
       "      <td>France</td>\n",
       "      <td>1900</td>\n",
       "      <td>France</td>\n",
       "      <td>235</td>\n",
       "    </tr>\n",
       "    <tr>\n",
       "      <th>425</th>\n",
       "      <td>France</td>\n",
       "      <td>1924</td>\n",
       "      <td>France</td>\n",
       "      <td>110</td>\n",
       "    </tr>\n",
       "  </tbody>\n",
       "</table>\n",
       "</div>"
      ],
      "text/plain": [
       "    Host_Country  Year  region  Medal_Count\n",
       "400       France  1900  France          235\n",
       "425       France  1924  France          110"
      ]
     },
     "execution_count": 105,
     "metadata": {},
     "output_type": "execute_result"
    }
   ],
   "source": [
    "# France as host for summer\n",
    "France_summer_host_df = France_df_summer[(France_df_summer['region'] =='France') & (France_df_summer['Host_Country'] =='France')]\n",
    "France_summer_host_df.head()"
   ]
  },
  {
   "cell_type": "code",
   "execution_count": 106,
   "metadata": {},
   "outputs": [
    {
     "data": {
      "image/png": "[encoded data removed]",
      "text/plain": [
       "<Figure size 640x480 with 1 Axes>"
      ]
     },
     "metadata": {},
     "output_type": "display_data"
    }
   ],
   "source": [
    "# Plot for Medals by Years\n",
    "plt.plot(France_df_summer['Year'], France_df_summer['Medal_Count'], c='blue')\n",
    "plt.scatter(France_summer_host_df['Year'], France_summer_host_df['Medal_Count'], c='r', label='Medals France - hosted by France')\n",
    "\n",
    "# Title and Axis\n",
    "plt.title('Medals won by France in the Summer Olympic Games')\n",
    "plt.xlabel('Years')\n",
    "plt.ylabel('Medals')\n",
    "plt.legend()\n",
    "plt.show()"
   ]
  },
  {
   "cell_type": "code",
   "execution_count": 107,
   "metadata": {},
   "outputs": [
    {
     "data": {
      "text/html": [
       "<div>\n",
       "<style scoped>\n",
       "    .dataframe tbody tr th:only-of-type {\n",
       "        vertical-align: middle;\n",
       "    }\n",
       "\n",
       "    .dataframe tbody tr th {\n",
       "        vertical-align: top;\n",
       "    }\n",
       "\n",
       "    .dataframe thead th {\n",
       "        text-align: right;\n",
       "    }\n",
       "</style>\n",
       "<table border=\"1\" class=\"dataframe\">\n",
       "  <thead>\n",
       "    <tr style=\"text-align: right;\">\n",
       "      <th></th>\n",
       "      <th>Host_Country</th>\n",
       "      <th>Year</th>\n",
       "      <th>region</th>\n",
       "      <th>Medal_Count</th>\n",
       "    </tr>\n",
       "  </thead>\n",
       "  <tbody>\n",
       "    <tr>\n",
       "      <th>76</th>\n",
       "      <td>France</td>\n",
       "      <td>1924</td>\n",
       "      <td>France</td>\n",
       "      <td>10</td>\n",
       "    </tr>\n",
       "    <tr>\n",
       "      <th>290</th>\n",
       "      <td>Switzerland</td>\n",
       "      <td>1928</td>\n",
       "      <td>France</td>\n",
       "      <td>2</td>\n",
       "    </tr>\n",
       "    <tr>\n",
       "      <th>313</th>\n",
       "      <td>United States of America</td>\n",
       "      <td>1932</td>\n",
       "      <td>France</td>\n",
       "      <td>2</td>\n",
       "    </tr>\n",
       "    <tr>\n",
       "      <th>121</th>\n",
       "      <td>Germany</td>\n",
       "      <td>1936</td>\n",
       "      <td>France</td>\n",
       "      <td>1</td>\n",
       "    </tr>\n",
       "    <tr>\n",
       "      <th>302</th>\n",
       "      <td>Switzerland</td>\n",
       "      <td>1948</td>\n",
       "      <td>France</td>\n",
       "      <td>5</td>\n",
       "    </tr>\n",
       "  </tbody>\n",
       "</table>\n",
       "</div>"
      ],
      "text/plain": [
       "                 Host_Country  Year  region  Medal_Count\n",
       "76                     France  1924  France           10\n",
       "290               Switzerland  1928  France            2\n",
       "313  United States of America  1932  France            2\n",
       "121                   Germany  1936  France            1\n",
       "302               Switzerland  1948  France            5"
      ]
     },
     "execution_count": 107,
     "metadata": {},
     "output_type": "execute_result"
    }
   ],
   "source": [
    "# performance of France for winter olympic\n",
    "France_df_winter = athelete_df_winter[athelete_df_winter['region'] =='France']\n",
    "France_df_winter.head()"
   ]
  },
  {
   "cell_type": "code",
   "execution_count": 108,
   "metadata": {},
   "outputs": [
    {
     "data": {
      "text/html": [
       "<div>\n",
       "<style scoped>\n",
       "    .dataframe tbody tr th:only-of-type {\n",
       "        vertical-align: middle;\n",
       "    }\n",
       "\n",
       "    .dataframe tbody tr th {\n",
       "        vertical-align: top;\n",
       "    }\n",
       "\n",
       "    .dataframe thead th {\n",
       "        text-align: right;\n",
       "    }\n",
       "</style>\n",
       "<table border=\"1\" class=\"dataframe\">\n",
       "  <thead>\n",
       "    <tr style=\"text-align: right;\">\n",
       "      <th></th>\n",
       "      <th>Host_Country</th>\n",
       "      <th>Year</th>\n",
       "      <th>region</th>\n",
       "      <th>Medal_Count</th>\n",
       "    </tr>\n",
       "  </thead>\n",
       "  <tbody>\n",
       "    <tr>\n",
       "      <th>76</th>\n",
       "      <td>France</td>\n",
       "      <td>1924</td>\n",
       "      <td>France</td>\n",
       "      <td>10</td>\n",
       "    </tr>\n",
       "    <tr>\n",
       "      <th>88</th>\n",
       "      <td>France</td>\n",
       "      <td>1968</td>\n",
       "      <td>France</td>\n",
       "      <td>9</td>\n",
       "    </tr>\n",
       "    <tr>\n",
       "      <th>103</th>\n",
       "      <td>France</td>\n",
       "      <td>1992</td>\n",
       "      <td>France</td>\n",
       "      <td>12</td>\n",
       "    </tr>\n",
       "  </tbody>\n",
       "</table>\n",
       "</div>"
      ],
      "text/plain": [
       "    Host_Country  Year  region  Medal_Count\n",
       "76        France  1924  France           10\n",
       "88        France  1968  France            9\n",
       "103       France  1992  France           12"
      ]
     },
     "execution_count": 108,
     "metadata": {},
     "output_type": "execute_result"
    }
   ],
   "source": [
    "# France as host for winter\n",
    "France_winter_host_df = France_df_winter[(France_df_winter['region'] =='France') & (France_df_winter['Host_Country'] =='France')]\n",
    "France_winter_host_df.head()"
   ]
  },
  {
   "cell_type": "code",
   "execution_count": 109,
   "metadata": {},
   "outputs": [
    {
     "data": {
      "image/png": "[encoded data removed]",
      "text/plain": [
       "<Figure size 640x480 with 1 Axes>"
      ]
     },
     "metadata": {},
     "output_type": "display_data"
    }
   ],
   "source": [
    "# Plot for Medals by Years\n",
    "plt.plot(France_df_winter['Year'], France_df_winter['Medal_Count'], c='blue')\n",
    "plt.scatter(France_winter_host_df['Year'], France_winter_host_df['Medal_Count'], c='r', label='Medals- hosted by France')\n",
    "\n",
    "# Title and Axis\n",
    "plt.title('Medals won by France in the Winter Olympic Games')\n",
    "plt.xlabel('Years')\n",
    "plt.ylabel('Medals')\n",
    "plt.legend()\n",
    "plt.show()"
   ]
  },
  {
   "cell_type": "code",
   "execution_count": 110,
   "metadata": {},
   "outputs": [
    {
     "data": {
      "text/html": [
       "<div>\n",
       "<style scoped>\n",
       "    .dataframe tbody tr th:only-of-type {\n",
       "        vertical-align: middle;\n",
       "    }\n",
       "\n",
       "    .dataframe tbody tr th {\n",
       "        vertical-align: top;\n",
       "    }\n",
       "\n",
       "    .dataframe thead th {\n",
       "        text-align: right;\n",
       "    }\n",
       "</style>\n",
       "<table border=\"1\" class=\"dataframe\">\n",
       "  <thead>\n",
       "    <tr style=\"text-align: right;\">\n",
       "      <th></th>\n",
       "      <th>Host_Country</th>\n",
       "      <th>Year</th>\n",
       "      <th>region</th>\n",
       "      <th>Medal_Count</th>\n",
       "    </tr>\n",
       "  </thead>\n",
       "  <tbody>\n",
       "    <tr>\n",
       "      <th>0</th>\n",
       "      <td>Australia</td>\n",
       "      <td>1956</td>\n",
       "      <td>Afghanistan</td>\n",
       "      <td>12</td>\n",
       "    </tr>\n",
       "    <tr>\n",
       "      <th>1</th>\n",
       "      <td>Australia</td>\n",
       "      <td>1956</td>\n",
       "      <td>Argentina</td>\n",
       "      <td>31</td>\n",
       "    </tr>\n",
       "    <tr>\n",
       "      <th>2</th>\n",
       "      <td>Australia</td>\n",
       "      <td>1956</td>\n",
       "      <td>Australia</td>\n",
       "      <td>405</td>\n",
       "    </tr>\n",
       "    <tr>\n",
       "      <th>3</th>\n",
       "      <td>Australia</td>\n",
       "      <td>1956</td>\n",
       "      <td>Austria</td>\n",
       "      <td>49</td>\n",
       "    </tr>\n",
       "    <tr>\n",
       "      <th>4</th>\n",
       "      <td>Australia</td>\n",
       "      <td>1956</td>\n",
       "      <td>Bahamas</td>\n",
       "      <td>5</td>\n",
       "    </tr>\n",
       "  </tbody>\n",
       "</table>\n",
       "</div>"
      ],
      "text/plain": [
       "  Host_Country  Year       region  Medal_Count\n",
       "0    Australia  1956  Afghanistan           12\n",
       "1    Australia  1956    Argentina           31\n",
       "2    Australia  1956    Australia          405\n",
       "3    Australia  1956      Austria           49\n",
       "4    Australia  1956      Bahamas            5"
      ]
     },
     "execution_count": 110,
     "metadata": {},
     "output_type": "execute_result"
    }
   ],
   "source": [
    "host_country_df = athelete_df.groupby(['Host_Country','Year','region'])['Medal'].count().reset_index(name='Medal_Count')\n",
    "host_country_df.head(5)"
   ]
  },
  {
   "cell_type": "code",
   "execution_count": 111,
   "metadata": {},
   "outputs": [],
   "source": [
    "host_country_medals_df = host_country_df[host_country_df['Host_Country']==host_country_df['region']]\n",
    "host_country_df_sorted = host_country_df.sort_values(by='Medal_Count', ascending=False)\n",
    "host_country_medals_df_sorted = host_country_medals_df.sort_values(by='Medal_Count', ascending=False)"
   ]
  },
  {
   "cell_type": "code",
   "execution_count": 112,
   "metadata": {},
   "outputs": [
    {
     "data": {
      "text/html": [
       "<div>\n",
       "<style scoped>\n",
       "    .dataframe tbody tr th:only-of-type {\n",
       "        vertical-align: middle;\n",
       "    }\n",
       "\n",
       "    .dataframe tbody tr th {\n",
       "        vertical-align: top;\n",
       "    }\n",
       "\n",
       "    .dataframe thead th {\n",
       "        text-align: right;\n",
       "    }\n",
       "</style>\n",
       "<table border=\"1\" class=\"dataframe\">\n",
       "  <thead>\n",
       "    <tr style=\"text-align: right;\">\n",
       "      <th></th>\n",
       "      <th>Host_Country</th>\n",
       "      <th>Year</th>\n",
       "      <th>region</th>\n",
       "      <th>Medal_Count</th>\n",
       "    </tr>\n",
       "  </thead>\n",
       "  <tbody>\n",
       "    <tr>\n",
       "      <th>3225</th>\n",
       "      <td>United States of America</td>\n",
       "      <td>1904</td>\n",
       "      <td>United States of America</td>\n",
       "      <td>1109</td>\n",
       "    </tr>\n",
       "    <tr>\n",
       "      <th>1071</th>\n",
       "      <td>France</td>\n",
       "      <td>1900</td>\n",
       "      <td>France</td>\n",
       "      <td>1071</td>\n",
       "    </tr>\n",
       "    <tr>\n",
       "      <th>1325</th>\n",
       "      <td>Germany</td>\n",
       "      <td>1972</td>\n",
       "      <td>Germany</td>\n",
       "      <td>1041</td>\n",
       "    </tr>\n",
       "    <tr>\n",
       "      <th>2950</th>\n",
       "      <td>United Kingdom</td>\n",
       "      <td>1908</td>\n",
       "      <td>United Kingdom</td>\n",
       "      <td>972</td>\n",
       "    </tr>\n",
       "    <tr>\n",
       "      <th>3661</th>\n",
       "      <td>United States of America</td>\n",
       "      <td>1996</td>\n",
       "      <td>United States of America</td>\n",
       "      <td>839</td>\n",
       "    </tr>\n",
       "  </tbody>\n",
       "</table>\n",
       "</div>"
      ],
      "text/plain": [
       "                  Host_Country  Year                    region  Medal_Count\n",
       "3225  United States of America  1904  United States of America         1109\n",
       "1071                    France  1900                    France         1071\n",
       "1325                   Germany  1972                   Germany         1041\n",
       "2950            United Kingdom  1908            United Kingdom          972\n",
       "3661  United States of America  1996  United States of America          839"
      ]
     },
     "execution_count": 112,
     "metadata": {},
     "output_type": "execute_result"
    }
   ],
   "source": [
    "host_country_medals_df_sorted.head(5)"
   ]
  },
  {
   "cell_type": "code",
   "execution_count": 113,
   "metadata": {},
   "outputs": [
    {
     "data": {
      "text/html": [
       "<div>\n",
       "<style scoped>\n",
       "    .dataframe tbody tr th:only-of-type {\n",
       "        vertical-align: middle;\n",
       "    }\n",
       "\n",
       "    .dataframe tbody tr th {\n",
       "        vertical-align: top;\n",
       "    }\n",
       "\n",
       "    .dataframe thead th {\n",
       "        text-align: right;\n",
       "    }\n",
       "</style>\n",
       "<table border=\"1\" class=\"dataframe\">\n",
       "  <thead>\n",
       "    <tr style=\"text-align: right;\">\n",
       "      <th></th>\n",
       "      <th>Host_Country</th>\n",
       "      <th>Year</th>\n",
       "      <th>region</th>\n",
       "      <th>Medal_Count</th>\n",
       "    </tr>\n",
       "  </thead>\n",
       "  <tbody>\n",
       "    <tr>\n",
       "      <th>2</th>\n",
       "      <td>Australia</td>\n",
       "      <td>1956</td>\n",
       "      <td>Australia</td>\n",
       "      <td>405</td>\n",
       "    </tr>\n",
       "    <tr>\n",
       "      <th>74</th>\n",
       "      <td>Australia</td>\n",
       "      <td>2000</td>\n",
       "      <td>Australia</td>\n",
       "      <td>788</td>\n",
       "    </tr>\n",
       "    <tr>\n",
       "      <th>265</th>\n",
       "      <td>Austria</td>\n",
       "      <td>1964</td>\n",
       "      <td>Austria</td>\n",
       "      <td>116</td>\n",
       "    </tr>\n",
       "    <tr>\n",
       "      <th>302</th>\n",
       "      <td>Austria</td>\n",
       "      <td>1976</td>\n",
       "      <td>Austria</td>\n",
       "      <td>116</td>\n",
       "    </tr>\n",
       "    <tr>\n",
       "      <th>337</th>\n",
       "      <td>Belgium</td>\n",
       "      <td>1920</td>\n",
       "      <td>Belgium</td>\n",
       "      <td>518</td>\n",
       "    </tr>\n",
       "  </tbody>\n",
       "</table>\n",
       "</div>"
      ],
      "text/plain": [
       "    Host_Country  Year     region  Medal_Count\n",
       "2      Australia  1956  Australia          405\n",
       "74     Australia  2000  Australia          788\n",
       "265      Austria  1964    Austria          116\n",
       "302      Austria  1976    Austria          116\n",
       "337      Belgium  1920    Belgium          518"
      ]
     },
     "execution_count": 113,
     "metadata": {},
     "output_type": "execute_result"
    }
   ],
   "source": [
    "host_country_medals_df.head(5)"
   ]
  },
  {
   "cell_type": "code",
   "execution_count": 114,
   "metadata": {},
   "outputs": [
    {
     "data": {
      "text/html": [
       "<div>\n",
       "<style scoped>\n",
       "    .dataframe tbody tr th:only-of-type {\n",
       "        vertical-align: middle;\n",
       "    }\n",
       "\n",
       "    .dataframe tbody tr th {\n",
       "        vertical-align: top;\n",
       "    }\n",
       "\n",
       "    .dataframe thead th {\n",
       "        text-align: right;\n",
       "    }\n",
       "</style>\n",
       "<table border=\"1\" class=\"dataframe\">\n",
       "  <thead>\n",
       "    <tr style=\"text-align: right;\">\n",
       "      <th></th>\n",
       "      <th>Host_Country_x</th>\n",
       "      <th>Year_x</th>\n",
       "      <th>region</th>\n",
       "      <th>Medal_Count_x</th>\n",
       "      <th>Host_Country_y</th>\n",
       "      <th>Year_y</th>\n",
       "      <th>Medal_Count_y</th>\n",
       "    </tr>\n",
       "  </thead>\n",
       "  <tbody>\n",
       "    <tr>\n",
       "      <th>1940</th>\n",
       "      <td>United States of America</td>\n",
       "      <td>1904</td>\n",
       "      <td>United States of America</td>\n",
       "      <td>1109</td>\n",
       "      <td>United States of America</td>\n",
       "      <td>1932</td>\n",
       "      <td>813</td>\n",
       "    </tr>\n",
       "    <tr>\n",
       "      <th>1939</th>\n",
       "      <td>United States of America</td>\n",
       "      <td>1904</td>\n",
       "      <td>United States of America</td>\n",
       "      <td>1109</td>\n",
       "      <td>United States of America</td>\n",
       "      <td>1904</td>\n",
       "      <td>1109</td>\n",
       "    </tr>\n",
       "    <tr>\n",
       "      <th>1941</th>\n",
       "      <td>United States of America</td>\n",
       "      <td>1904</td>\n",
       "      <td>United States of America</td>\n",
       "      <td>1109</td>\n",
       "      <td>United States of America</td>\n",
       "      <td>1960</td>\n",
       "      <td>105</td>\n",
       "    </tr>\n",
       "    <tr>\n",
       "      <th>1942</th>\n",
       "      <td>United States of America</td>\n",
       "      <td>1904</td>\n",
       "      <td>United States of America</td>\n",
       "      <td>1109</td>\n",
       "      <td>United States of America</td>\n",
       "      <td>1980</td>\n",
       "      <td>155</td>\n",
       "    </tr>\n",
       "    <tr>\n",
       "      <th>1943</th>\n",
       "      <td>United States of America</td>\n",
       "      <td>1904</td>\n",
       "      <td>United States of America</td>\n",
       "      <td>1109</td>\n",
       "      <td>United States of America</td>\n",
       "      <td>1984</td>\n",
       "      <td>693</td>\n",
       "    </tr>\n",
       "  </tbody>\n",
       "</table>\n",
       "</div>"
      ],
      "text/plain": [
       "                Host_Country_x  Year_x                    region  \\\n",
       "1940  United States of America    1904  United States of America   \n",
       "1939  United States of America    1904  United States of America   \n",
       "1941  United States of America    1904  United States of America   \n",
       "1942  United States of America    1904  United States of America   \n",
       "1943  United States of America    1904  United States of America   \n",
       "\n",
       "      Medal_Count_x            Host_Country_y  Year_y  Medal_Count_y  \n",
       "1940           1109  United States of America    1932            813  \n",
       "1939           1109  United States of America    1904           1109  \n",
       "1941           1109  United States of America    1960            105  \n",
       "1942           1109  United States of America    1980            155  \n",
       "1943           1109  United States of America    1984            693  "
      ]
     },
     "execution_count": 114,
     "metadata": {},
     "output_type": "execute_result"
    }
   ],
   "source": [
    "hosting_countries_df=pd.merge(host_country_df,host_country_medals_df, on=['region'], how='inner')\n",
    "hosting_countries_df_sorted=hosting_countries_df.sort_values(by='Medal_Count_x', ascending=False)\n",
    "hosting_countries_df_sorted.head(5)"
   ]
  },
  {
   "cell_type": "code",
   "execution_count": 115,
   "metadata": {},
   "outputs": [
    {
     "data": {
      "image/png": "[encoded data removed]",
      "text/plain": [
       "<Figure size 1200x600 with 1 Axes>"
      ]
     },
     "metadata": {},
     "output_type": "display_data"
    }
   ],
   "source": [
    "plt.figure(figsize=(12, 6))\n",
    "plt.scatter(hosting_countries_df_sorted['region'], hosting_countries_df_sorted['Medal_Count_x'], c='g',alpha=0.5, label='Medals earned')\n",
    "plt.scatter(host_country_medals_df_sorted['region'], host_country_medals_df_sorted['Medal_Count'], c='r',alpha=1.0, label='Medals earned as host')\n",
    "plt.title('Medals won by countries in the Olympic Games')\n",
    "plt.xlabel('Country')\n",
    "plt.ylabel('# of Medals')\n",
    "plt.xticks(rotation='vertical')\n",
    "plt.legend()\n",
    "plt.show()"
   ]
  },
  {
   "cell_type": "code",
   "execution_count": 116,
   "metadata": {},
   "outputs": [
    {
     "data": {
      "text/html": [
       "<div>\n",
       "<style scoped>\n",
       "    .dataframe tbody tr th:only-of-type {\n",
       "        vertical-align: middle;\n",
       "    }\n",
       "\n",
       "    .dataframe tbody tr th {\n",
       "        vertical-align: top;\n",
       "    }\n",
       "\n",
       "    .dataframe thead th {\n",
       "        text-align: right;\n",
       "    }\n",
       "</style>\n",
       "<table border=\"1\" class=\"dataframe\">\n",
       "  <thead>\n",
       "    <tr style=\"text-align: right;\">\n",
       "      <th></th>\n",
       "      <th>region</th>\n",
       "      <th>Gold Count</th>\n",
       "    </tr>\n",
       "  </thead>\n",
       "  <tbody>\n",
       "    <tr>\n",
       "      <th>0</th>\n",
       "      <td>Algeria</td>\n",
       "      <td>5</td>\n",
       "    </tr>\n",
       "    <tr>\n",
       "      <th>1</th>\n",
       "      <td>Argentina</td>\n",
       "      <td>91</td>\n",
       "    </tr>\n",
       "    <tr>\n",
       "      <th>2</th>\n",
       "      <td>Armenia</td>\n",
       "      <td>2</td>\n",
       "    </tr>\n",
       "    <tr>\n",
       "      <th>3</th>\n",
       "      <td>Australia</td>\n",
       "      <td>368</td>\n",
       "    </tr>\n",
       "    <tr>\n",
       "      <th>4</th>\n",
       "      <td>Austria</td>\n",
       "      <td>108</td>\n",
       "    </tr>\n",
       "  </tbody>\n",
       "</table>\n",
       "</div>"
      ],
      "text/plain": [
       "      region  Gold Count\n",
       "0    Algeria           5\n",
       "1  Argentina          91\n",
       "2    Armenia           2\n",
       "3  Australia         368\n",
       "4    Austria         108"
      ]
     },
     "execution_count": 116,
     "metadata": {},
     "output_type": "execute_result"
    }
   ],
   "source": [
    "df = athelete_df[athelete_df['Medal']=='Gold']\n",
    "df2 = df.groupby(['region'])['Medal'].count().reset_index(name='Gold Count')\n",
    "df2.head()"
   ]
  },
  {
   "cell_type": "code",
   "execution_count": 117,
   "metadata": {},
   "outputs": [
    {
     "name": "stderr",
     "output_type": "stream",
     "text": [
      "C:\\Users\\soumy\\AppData\\Local\\Temp\\ipykernel_43920\\3990371491.py:1: FutureWarning:\n",
      "\n",
      "The geopandas.dataset module is deprecated and will be removed in GeoPandas 1.0. You can get the original 'naturalearth_lowres' data from https://www.naturalearthdata.com/downloads/110m-cultural-vectors/.\n",
      "\n"
     ]
    },
    {
     "data": {
      "application/vnd.plotly.v1+json": {
       "config": {
        "plotlyServerURL": "https://plot.ly"
       },
       "data": [
        {
         "coloraxis": "coloraxis",
         "customdata": [
          [
           5
          ],
          [
           91
          ],
          [
           2
          ],
          [
           368
          ],
          [
           108
          ],
          [
           7
          ],
          [
           14
          ],
          [
           1
          ],
          [
           24
          ],
          [
           98
          ],
          [
           109
          ],
          [
           54
          ],
          [
           1
          ],
          [
           20
          ],
          [
           463
          ],
          [
           3
          ],
          [
           351
          ],
          [
           5
          ],
          [
           1
          ],
          [
           58
          ],
          [
           164
          ],
          [
           123
          ],
          [
           179
          ],
          [
           3
          ],
          [
           1
          ],
          [
           7
          ],
          [
           13
          ],
          [
           22
          ],
          [
           13
          ],
          [
           198
          ],
          [
           501
          ],
          [
           8
          ],
          [
           1301
          ],
          [
           62
          ],
          [
           1
          ],
          [
           1
          ],
          [
           432
          ],
          [
           138
          ],
          [
           1
          ],
          [
           11
          ],
          [
           18
          ],
          [
           9
          ],
          [
           1
          ],
          [
           575
          ],
          [
           1
          ],
          [
           38
          ],
          [
           247
          ],
          [
           1
          ],
          [
           20
          ],
          [
           34
          ],
          [
           1
          ],
          [
           3
          ],
          [
           2
          ],
          [
           6
          ],
          [
           4
          ],
          [
           30
          ],
          [
           2
          ],
          [
           6
          ],
          [
           1
          ],
          [
           1
          ],
          [
           287
          ],
          [
           90
          ],
          [
           23
          ],
          [
           16
          ],
          [
           378
          ],
          [
           42
          ],
          [
           1
          ],
          [
           1
          ],
          [
           117
          ],
          [
           4
          ],
          [
           1
          ],
          [
           157
          ],
          [
           161
          ],
          [
           1599
          ],
          [
           15
          ],
          [
           8
          ],
          [
           32
          ],
          [
           221
          ],
          [
           110
          ],
          [
           1
          ],
          [
           479
          ],
          [
           175
          ],
          [
           1
          ],
          [
           3
          ],
          [
           1
          ],
          [
           9
          ],
          [
           7
          ],
          [
           3
          ],
          [
           40
          ],
          [
           2
          ],
          [
           47
          ],
          [
           1
          ],
          [
           678
          ],
          [
           2638
          ],
          [
           31
          ],
          [
           10
          ],
          [
           2
          ],
          [
           1
          ],
          [
           17
          ]
         ],
         "geo": "geo",
         "hoverinfo": "all",
         "hovertemplate": "Country: %{hovertext}<br>Data: %{customdata[0]}",
         "hovertext": [
          "Algeria",
          "Argentina",
          "Armenia",
          "Australia",
          "Austria",
          "Azerbaijan",
          "Bahamas",
          "Bahrain",
          "Belarus",
          "Belgium",
          "Brazil",
          "Bulgaria",
          "Burundi",
          "Cameroon",
          "Canada",
          "Chile",
          "China",
          "Colombia",
          "Costa Rica",
          "Croatia",
          "Cuba",
          "Czech Republic",
          "Denmark",
          "Dominican Republic",
          "Ecuador",
          "Egypt",
          "Estonia",
          "Ethiopia",
          "Fiji",
          "Finland",
          "France",
          "Georgia",
          "Germany",
          "Greece",
          "Grenada",
          "Haiti",
          "Hungary",
          "India",
          "Individual Olympic Athletes",
          "Indonesia",
          "Iran",
          "Ireland",
          "Israel",
          "Italy",
          "Ivory Coast",
          "Jamaica",
          "Japan",
          "Jordan",
          "Kazakhstan",
          "Kenya",
          "Kosovo",
          "Latvia",
          "Liechtenstein",
          "Lithuania",
          "Luxembourg",
          "Mexico",
          "Mongolia",
          "Morocco",
          "Mozambique",
          "Nepal",
          "Netherlands",
          "New Zealand",
          "Nigeria",
          "North Korea",
          "Norway",
          "Pakistan",
          "Panama",
          "Peru",
          "Poland",
          "Portugal",
          "Puerto Rico",
          "Republic of Serbia",
          "Romania",
          "Russia",
          "Slovakia",
          "Slovenia",
          "South Africa",
          "South Korea",
          "Spain",
          "Suriname",
          "Sweden",
          "Switzerland",
          "Syria",
          "Taiwan",
          "Tajikistan",
          "Thailand",
          "Trinidad",
          "Tunisia",
          "Turkey",
          "Uganda",
          "Ukraine",
          "United Arab Emirates",
          "United Kingdom",
          "United States of America",
          "Uruguay",
          "Uzbekistan",
          "Venezuela",
          "Vietnam",
          "Zimbabwe"
         ],
         "locations": [
          "DZA",
          "ARG",
          "ARM",
          "AUS",
          "AUT",
          "AZE",
          "BHS",
          null,
          "BLR",
          "BEL",
          "BRA",
          "BGR",
          "BDI",
          "CMR",
          "CAN",
          "CHL",
          "CHN",
          "COL",
          "CRI",
          "HRV",
          "CUB",
          null,
          "DNK",
          null,
          "ECU",
          "EGY",
          "EST",
          "ETH",
          "FJI",
          "FIN",
          "FRA",
          "GEO",
          "DEU",
          "GRC",
          null,
          "HTI",
          "HUN",
          "IND",
          null,
          "IDN",
          "IRN",
          "IRL",
          "ISR",
          "ITA",
          null,
          "JAM",
          "JPN",
          "JOR",
          "KAZ",
          "KEN",
          "-99",
          "LVA",
          null,
          "LTU",
          "LUX",
          "MEX",
          "MNG",
          "MAR",
          "MOZ",
          "NPL",
          "NLD",
          "NZL",
          "NGA",
          "PRK",
          "NOR",
          "PAK",
          "PAN",
          "PER",
          "POL",
          "PRT",
          "PRI",
          null,
          "ROU",
          "RUS",
          "SVK",
          "SVN",
          "ZAF",
          "KOR",
          "ESP",
          "SUR",
          "SWE",
          "CHE",
          "SYR",
          "TWN",
          "TJK",
          "THA",
          null,
          "TUN",
          "TUR",
          "UGA",
          "UKR",
          "ARE",
          "GBR",
          "USA",
          "URY",
          "UZB",
          "VEN",
          "VNM",
          "ZWE"
         ],
         "name": "",
         "type": "choropleth",
         "z": [
          5,
          91,
          2,
          368,
          108,
          7,
          14,
          1,
          24,
          98,
          109,
          54,
          1,
          20,
          463,
          3,
          351,
          5,
          1,
          58,
          164,
          123,
          179,
          3,
          1,
          7,
          13,
          22,
          13,
          198,
          501,
          8,
          1301,
          62,
          1,
          1,
          432,
          138,
          1,
          11,
          18,
          9,
          1,
          575,
          1,
          38,
          247,
          1,
          20,
          34,
          1,
          3,
          2,
          6,
          4,
          30,
          2,
          6,
          1,
          1,
          287,
          90,
          23,
          16,
          378,
          42,
          1,
          1,
          117,
          4,
          1,
          157,
          161,
          1599,
          15,
          8,
          32,
          221,
          110,
          1,
          479,
          175,
          1,
          3,
          1,
          9,
          7,
          3,
          40,
          2,
          47,
          1,
          678,
          2638,
          31,
          10,
          2,
          1,
          17
         ]
        }
       ],
       "layout": {
        "coloraxis": {
         "colorbar": {
          "title": {
           "text": "Gold Count"
          }
         },
         "colorscale": [
          [
           0,
           "#440154"
          ],
          [
           0.1111111111111111,
           "#482878"
          ],
          [
           0.2222222222222222,
           "#3e4989"
          ],
          [
           0.3333333333333333,
           "#31688e"
          ],
          [
           0.4444444444444444,
           "#26828e"
          ],
          [
           0.5555555555555556,
           "#1f9e89"
          ],
          [
           0.6666666666666666,
           "#35b779"
          ],
          [
           0.7777777777777778,
           "#6ece58"
          ],
          [
           0.8888888888888888,
           "#b5de2b"
          ],
          [
           1,
           "#fde725"
          ]
         ]
        },
        "geo": {
         "center": {},
         "domain": {
          "x": [
           0,
           1
          ],
          "y": [
           0,
           1
          ]
         },
         "projection": {
          "type": "natural earth"
         }
        },
        "height": 800,
        "legend": {
         "tracegroupgap": 0
        },
        "margin": {
         "t": 60
        },
        "template": {
         "data": {
          "bar": [
           {
            "error_x": {
             "color": "#2a3f5f"
            },
            "error_y": {
             "color": "#2a3f5f"
            },
            "marker": {
             "line": {
              "color": "#E5ECF6",
              "width": 0.5
             },
             "pattern": {
              "fillmode": "overlay",
              "size": 10,
              "solidity": 0.2
             }
            },
            "type": "bar"
           }
          ],
          "barpolar": [
           {
            "marker": {
             "line": {
              "color": "#E5ECF6",
              "width": 0.5
             },
             "pattern": {
              "fillmode": "overlay",
              "size": 10,
              "solidity": 0.2
             }
            },
            "type": "barpolar"
           }
          ],
          "carpet": [
           {
            "aaxis": {
             "endlinecolor": "#2a3f5f",
             "gridcolor": "white",
             "linecolor": "white",
             "minorgridcolor": "white",
             "startlinecolor": "#2a3f5f"
            },
            "baxis": {
             "endlinecolor": "#2a3f5f",
             "gridcolor": "white",
             "linecolor": "white",
             "minorgridcolor": "white",
             "startlinecolor": "#2a3f5f"
            },
            "type": "carpet"
           }
          ],
          "choropleth": [
           {
            "colorbar": {
             "outlinewidth": 0,
             "ticks": ""
            },
            "type": "choropleth"
           }
          ],
          "contour": [
           {
            "colorbar": {
             "outlinewidth": 0,
             "ticks": ""
            },
            "colorscale": [
             [
              0,
              "#0d0887"
             ],
             [
              0.1111111111111111,
              "#46039f"
             ],
             [
              0.2222222222222222,
              "#7201a8"
             ],
             [
              0.3333333333333333,
              "#9c179e"
             ],
             [
              0.4444444444444444,
              "#bd3786"
             ],
             [
              0.5555555555555556,
              "#d8576b"
             ],
             [
              0.6666666666666666,
              "#ed7953"
             ],
             [
              0.7777777777777778,
              "#fb9f3a"
             ],
             [
              0.8888888888888888,
              "#fdca26"
             ],
             [
              1,
              "#f0f921"
             ]
            ],
            "type": "contour"
           }
          ],
          "contourcarpet": [
           {
            "colorbar": {
             "outlinewidth": 0,
             "ticks": ""
            },
            "type": "contourcarpet"
           }
          ],
          "heatmap": [
           {
            "colorbar": {
             "outlinewidth": 0,
             "ticks": ""
            },
            "colorscale": [
             [
              0,
              "#0d0887"
             ],
             [
              0.1111111111111111,
              "#46039f"
             ],
             [
              0.2222222222222222,
              "#7201a8"
             ],
             [
              0.3333333333333333,
              "#9c179e"
             ],
             [
              0.4444444444444444,
              "#bd3786"
             ],
             [
              0.5555555555555556,
              "#d8576b"
             ],
             [
              0.6666666666666666,
              "#ed7953"
             ],
             [
              0.7777777777777778,
              "#fb9f3a"
             ],
             [
              0.8888888888888888,
              "#fdca26"
             ],
             [
              1,
              "#f0f921"
             ]
            ],
            "type": "heatmap"
           }
          ],
          "heatmapgl": [
           {
            "colorbar": {
             "outlinewidth": 0,
             "ticks": ""
            },
            "colorscale": [
             [
              0,
              "#0d0887"
             ],
             [
              0.1111111111111111,
              "#46039f"
             ],
             [
              0.2222222222222222,
              "#7201a8"
             ],
             [
              0.3333333333333333,
              "#9c179e"
             ],
             [
              0.4444444444444444,
              "#bd3786"
             ],
             [
              0.5555555555555556,
              "#d8576b"
             ],
             [
              0.6666666666666666,
              "#ed7953"
             ],
             [
              0.7777777777777778,
              "#fb9f3a"
             ],
             [
              0.8888888888888888,
              "#fdca26"
             ],
             [
              1,
              "#f0f921"
             ]
            ],
            "type": "heatmapgl"
           }
          ],
          "histogram": [
           {
            "marker": {
             "pattern": {
              "fillmode": "overlay",
              "size": 10,
              "solidity": 0.2
             }
            },
            "type": "histogram"
           }
          ],
          "histogram2d": [
           {
            "colorbar": {
             "outlinewidth": 0,
             "ticks": ""
            },
            "colorscale": [
             [
              0,
              "#0d0887"
             ],
             [
              0.1111111111111111,
              "#46039f"
             ],
             [
              0.2222222222222222,
              "#7201a8"
             ],
             [
              0.3333333333333333,
              "#9c179e"
             ],
             [
              0.4444444444444444,
              "#bd3786"
             ],
             [
              0.5555555555555556,
              "#d8576b"
             ],
             [
              0.6666666666666666,
              "#ed7953"
             ],
             [
              0.7777777777777778,
              "#fb9f3a"
             ],
             [
              0.8888888888888888,
              "#fdca26"
             ],
             [
              1,
              "#f0f921"
             ]
            ],
            "type": "histogram2d"
           }
          ],
          "histogram2dcontour": [
           {
            "colorbar": {
             "outlinewidth": 0,
             "ticks": ""
            },
            "colorscale": [
             [
              0,
              "#0d0887"
             ],
             [
              0.1111111111111111,
              "#46039f"
             ],
             [
              0.2222222222222222,
              "#7201a8"
             ],
             [
              0.3333333333333333,
              "#9c179e"
             ],
             [
              0.4444444444444444,
              "#bd3786"
             ],
             [
              0.5555555555555556,
              "#d8576b"
             ],
             [
              0.6666666666666666,
              "#ed7953"
             ],
             [
              0.7777777777777778,
              "#fb9f3a"
             ],
             [
              0.8888888888888888,
              "#fdca26"
             ],
             [
              1,
              "#f0f921"
             ]
            ],
            "type": "histogram2dcontour"
           }
          ],
          "mesh3d": [
           {
            "colorbar": {
             "outlinewidth": 0,
             "ticks": ""
            },
            "type": "mesh3d"
           }
          ],
          "parcoords": [
           {
            "line": {
             "colorbar": {
              "outlinewidth": 0,
              "ticks": ""
             }
            },
            "type": "parcoords"
           }
          ],
          "pie": [
           {
            "automargin": true,
            "type": "pie"
           }
          ],
          "scatter": [
           {
            "fillpattern": {
             "fillmode": "overlay",
             "size": 10,
             "solidity": 0.2
            },
            "type": "scatter"
           }
          ],
          "scatter3d": [
           {
            "line": {
             "colorbar": {
              "outlinewidth": 0,
              "ticks": ""
             }
            },
            "marker": {
             "colorbar": {
              "outlinewidth": 0,
              "ticks": ""
             }
            },
            "type": "scatter3d"
           }
          ],
          "scattercarpet": [
           {
            "marker": {
             "colorbar": {
              "outlinewidth": 0,
              "ticks": ""
             }
            },
            "type": "scattercarpet"
           }
          ],
          "scattergeo": [
           {
            "marker": {
             "colorbar": {
              "outlinewidth": 0,
              "ticks": ""
             }
            },
            "type": "scattergeo"
           }
          ],
          "scattergl": [
           {
            "marker": {
             "colorbar": {
              "outlinewidth": 0,
              "ticks": ""
             }
            },
            "type": "scattergl"
           }
          ],
          "scattermapbox": [
           {
            "marker": {
             "colorbar": {
              "outlinewidth": 0,
              "ticks": ""
             }
            },
            "type": "scattermapbox"
           }
          ],
          "scatterpolar": [
           {
            "marker": {
             "colorbar": {
              "outlinewidth": 0,
              "ticks": ""
             }
            },
            "type": "scatterpolar"
           }
          ],
          "scatterpolargl": [
           {
            "marker": {
             "colorbar": {
              "outlinewidth": 0,
              "ticks": ""
             }
            },
            "type": "scatterpolargl"
           }
          ],
          "scatterternary": [
           {
            "marker": {
             "colorbar": {
              "outlinewidth": 0,
              "ticks": ""
             }
            },
            "type": "scatterternary"
           }
          ],
          "surface": [
           {
            "colorbar": {
             "outlinewidth": 0,
             "ticks": ""
            },
            "colorscale": [
             [
              0,
              "#0d0887"
             ],
             [
              0.1111111111111111,
              "#46039f"
             ],
             [
              0.2222222222222222,
              "#7201a8"
             ],
             [
              0.3333333333333333,
              "#9c179e"
             ],
             [
              0.4444444444444444,
              "#bd3786"
             ],
             [
              0.5555555555555556,
              "#d8576b"
             ],
             [
              0.6666666666666666,
              "#ed7953"
             ],
             [
              0.7777777777777778,
              "#fb9f3a"
             ],
             [
              0.8888888888888888,
              "#fdca26"
             ],
             [
              1,
              "#f0f921"
             ]
            ],
            "type": "surface"
           }
          ],
          "table": [
           {
            "cells": {
             "fill": {
              "color": "#EBF0F8"
             },
             "line": {
              "color": "white"
             }
            },
            "header": {
             "fill": {
              "color": "#C8D4E3"
             },
             "line": {
              "color": "white"
             }
            },
            "type": "table"
           }
          ]
         },
         "layout": {
          "annotationdefaults": {
           "arrowcolor": "#2a3f5f",
           "arrowhead": 0,
           "arrowwidth": 1
          },
          "autotypenumbers": "strict",
          "coloraxis": {
           "colorbar": {
            "outlinewidth": 0,
            "ticks": ""
           }
          },
          "colorscale": {
           "diverging": [
            [
             0,
             "#8e0152"
            ],
            [
             0.1,
             "#c51b7d"
            ],
            [
             0.2,
             "#de77ae"
            ],
            [
             0.3,
             "#f1b6da"
            ],
            [
             0.4,
             "#fde0ef"
            ],
            [
             0.5,
             "#f7f7f7"
            ],
            [
             0.6,
             "#e6f5d0"
            ],
            [
             0.7,
             "#b8e186"
            ],
            [
             0.8,
             "#7fbc41"
            ],
            [
             0.9,
             "#4d9221"
            ],
            [
             1,
             "#276419"
            ]
           ],
           "sequential": [
            [
             0,
             "#0d0887"
            ],
            [
             0.1111111111111111,
             "#46039f"
            ],
            [
             0.2222222222222222,
             "#7201a8"
            ],
            [
             0.3333333333333333,
             "#9c179e"
            ],
            [
             0.4444444444444444,
             "#bd3786"
            ],
            [
             0.5555555555555556,
             "#d8576b"
            ],
            [
             0.6666666666666666,
             "#ed7953"
            ],
            [
             0.7777777777777778,
             "#fb9f3a"
            ],
            [
             0.8888888888888888,
             "#fdca26"
            ],
            [
             1,
             "#f0f921"
            ]
           ],
           "sequentialminus": [
            [
             0,
             "#0d0887"
            ],
            [
             0.1111111111111111,
             "#46039f"
            ],
            [
             0.2222222222222222,
             "#7201a8"
            ],
            [
             0.3333333333333333,
             "#9c179e"
            ],
            [
             0.4444444444444444,
             "#bd3786"
            ],
            [
             0.5555555555555556,
             "#d8576b"
            ],
            [
             0.6666666666666666,
             "#ed7953"
            ],
            [
             0.7777777777777778,
             "#fb9f3a"
            ],
            [
             0.8888888888888888,
             "#fdca26"
            ],
            [
             1,
             "#f0f921"
            ]
           ]
          },
          "colorway": [
           "#636efa",
           "#EF553B",
           "#00cc96",
           "#ab63fa",
           "#FFA15A",
           "#19d3f3",
           "#FF6692",
           "#B6E880",
           "#FF97FF",
           "#FECB52"
          ],
          "font": {
           "color": "#2a3f5f"
          },
          "geo": {
           "bgcolor": "white",
           "lakecolor": "white",
           "landcolor": "#E5ECF6",
           "showlakes": true,
           "showland": true,
           "subunitcolor": "white"
          },
          "hoverlabel": {
           "align": "left"
          },
          "hovermode": "closest",
          "mapbox": {
           "style": "light"
          },
          "paper_bgcolor": "white",
          "plot_bgcolor": "#E5ECF6",
          "polar": {
           "angularaxis": {
            "gridcolor": "white",
            "linecolor": "white",
            "ticks": ""
           },
           "bgcolor": "#E5ECF6",
           "radialaxis": {
            "gridcolor": "white",
            "linecolor": "white",
            "ticks": ""
           }
          },
          "scene": {
           "xaxis": {
            "backgroundcolor": "#E5ECF6",
            "gridcolor": "white",
            "gridwidth": 2,
            "linecolor": "white",
            "showbackground": true,
            "ticks": "",
            "zerolinecolor": "white"
           },
           "yaxis": {
            "backgroundcolor": "#E5ECF6",
            "gridcolor": "white",
            "gridwidth": 2,
            "linecolor": "white",
            "showbackground": true,
            "ticks": "",
            "zerolinecolor": "white"
           },
           "zaxis": {
            "backgroundcolor": "#E5ECF6",
            "gridcolor": "white",
            "gridwidth": 2,
            "linecolor": "white",
            "showbackground": true,
            "ticks": "",
            "zerolinecolor": "white"
           }
          },
          "shapedefaults": {
           "line": {
            "color": "#2a3f5f"
           }
          },
          "ternary": {
           "aaxis": {
            "gridcolor": "white",
            "linecolor": "white",
            "ticks": ""
           },
           "baxis": {
            "gridcolor": "white",
            "linecolor": "white",
            "ticks": ""
           },
           "bgcolor": "#E5ECF6",
           "caxis": {
            "gridcolor": "white",
            "linecolor": "white",
            "ticks": ""
           }
          },
          "title": {
           "x": 0.05
          },
          "xaxis": {
           "automargin": true,
           "gridcolor": "white",
           "linecolor": "white",
           "ticks": "",
           "title": {
            "standoff": 15
           },
           "zerolinecolor": "white",
           "zerolinewidth": 2
          },
          "yaxis": {
           "automargin": true,
           "gridcolor": "white",
           "linecolor": "white",
           "ticks": "",
           "title": {
            "standoff": 15
           },
           "zerolinecolor": "white",
           "zerolinewidth": 2
          }
         }
        },
        "width": 1000
       }
      }
     },
     "metadata": {},
     "output_type": "display_data"
    }
   ],
   "source": [
    "world = gpd.read_file(gpd.datasets.get_path('naturalearth_lowres'))\n",
    "world_data = world.merge(df2, how='right', left_on='name', right_on='region')\n",
    "\n",
    "fig = px.choropleth(world_data, \n",
    "                     locations='iso_a3', \n",
    "                     color='Gold Count',\n",
    "                     hover_name='region', \n",
    "                     projection='natural earth',\n",
    "                     color_continuous_scale='Viridis')\n",
    "\n",
    "# Update hover information\n",
    "fig.update_traces(hoverinfo='all', \n",
    "                  hovertemplate='Country: %{hovertext}<br>Data: %{customdata[0]}',\n",
    "                  customdata=world_data[['Gold Count']])\n",
    "\n",
    "# Show the plot\n",
    "fig.update_layout(height=800, width=1000)\n",
    "fig.show()"
   ]
  },
  {
   "cell_type": "code",
   "execution_count": 118,
   "metadata": {},
   "outputs": [
    {
     "data": {
      "text/html": [
       "<div>\n",
       "<style scoped>\n",
       "    .dataframe tbody tr th:only-of-type {\n",
       "        vertical-align: middle;\n",
       "    }\n",
       "\n",
       "    .dataframe tbody tr th {\n",
       "        vertical-align: top;\n",
       "    }\n",
       "\n",
       "    .dataframe thead th {\n",
       "        text-align: right;\n",
       "    }\n",
       "</style>\n",
       "<table border=\"1\" class=\"dataframe\">\n",
       "  <thead>\n",
       "    <tr style=\"text-align: right;\">\n",
       "      <th></th>\n",
       "      <th>ID</th>\n",
       "      <th>Name</th>\n",
       "      <th>Sex</th>\n",
       "      <th>Age</th>\n",
       "      <th>Height</th>\n",
       "      <th>Weight</th>\n",
       "      <th>Team</th>\n",
       "      <th>NOC</th>\n",
       "      <th>Games</th>\n",
       "      <th>Year</th>\n",
       "      <th>Season</th>\n",
       "      <th>City</th>\n",
       "      <th>Sport</th>\n",
       "      <th>Event</th>\n",
       "      <th>Medal</th>\n",
       "      <th>region</th>\n",
       "      <th>Host_Country</th>\n",
       "    </tr>\n",
       "  </thead>\n",
       "  <tbody>\n",
       "    <tr>\n",
       "      <th>98</th>\n",
       "      <td>34</td>\n",
       "      <td>Jamale (Djamel-) Aarrass (Ahrass-)</td>\n",
       "      <td>M</td>\n",
       "      <td>30.0</td>\n",
       "      <td>187.0</td>\n",
       "      <td>76.0</td>\n",
       "      <td>France</td>\n",
       "      <td>FRA</td>\n",
       "      <td>2012 Summer</td>\n",
       "      <td>2012</td>\n",
       "      <td>Summer</td>\n",
       "      <td>London</td>\n",
       "      <td>Athletics</td>\n",
       "      <td>Athletics Men's 1,500 metres</td>\n",
       "      <td>DNW</td>\n",
       "      <td>France</td>\n",
       "      <td>United Kingdom</td>\n",
       "    </tr>\n",
       "    <tr>\n",
       "      <th>145</th>\n",
       "      <td>52</td>\n",
       "      <td>Patrick Abada</td>\n",
       "      <td>M</td>\n",
       "      <td>22.0</td>\n",
       "      <td>189.0</td>\n",
       "      <td>80.0</td>\n",
       "      <td>France</td>\n",
       "      <td>FRA</td>\n",
       "      <td>1976 Summer</td>\n",
       "      <td>1976</td>\n",
       "      <td>Summer</td>\n",
       "      <td>Montreal</td>\n",
       "      <td>Athletics</td>\n",
       "      <td>Athletics Men's Pole Vault</td>\n",
       "      <td>DNW</td>\n",
       "      <td>France</td>\n",
       "      <td>Canada</td>\n",
       "    </tr>\n",
       "    <tr>\n",
       "      <th>149</th>\n",
       "      <td>56</td>\n",
       "      <td>Ren Abadie</td>\n",
       "      <td>M</td>\n",
       "      <td>21.0</td>\n",
       "      <td>175.0</td>\n",
       "      <td>71.0</td>\n",
       "      <td>France</td>\n",
       "      <td>FRA</td>\n",
       "      <td>1956 Summer</td>\n",
       "      <td>1956</td>\n",
       "      <td>Summer</td>\n",
       "      <td>Melbourne</td>\n",
       "      <td>Cycling</td>\n",
       "      <td>Cycling Men's Road Race, Individual</td>\n",
       "      <td>DNW</td>\n",
       "      <td>France</td>\n",
       "      <td>Australia</td>\n",
       "    </tr>\n",
       "    <tr>\n",
       "      <th>150</th>\n",
       "      <td>56</td>\n",
       "      <td>Ren Abadie</td>\n",
       "      <td>M</td>\n",
       "      <td>21.0</td>\n",
       "      <td>175.0</td>\n",
       "      <td>71.0</td>\n",
       "      <td>France</td>\n",
       "      <td>FRA</td>\n",
       "      <td>1956 Summer</td>\n",
       "      <td>1956</td>\n",
       "      <td>Summer</td>\n",
       "      <td>Melbourne</td>\n",
       "      <td>Cycling</td>\n",
       "      <td>Cycling Men's Road Race, Team</td>\n",
       "      <td>Gold</td>\n",
       "      <td>France</td>\n",
       "      <td>Australia</td>\n",
       "    </tr>\n",
       "    <tr>\n",
       "      <th>173</th>\n",
       "      <td>73</td>\n",
       "      <td>Luc Abalo</td>\n",
       "      <td>M</td>\n",
       "      <td>23.0</td>\n",
       "      <td>182.0</td>\n",
       "      <td>86.0</td>\n",
       "      <td>France</td>\n",
       "      <td>FRA</td>\n",
       "      <td>2008 Summer</td>\n",
       "      <td>2008</td>\n",
       "      <td>Summer</td>\n",
       "      <td>Beijing</td>\n",
       "      <td>Handball</td>\n",
       "      <td>Handball Men's Handball</td>\n",
       "      <td>Gold</td>\n",
       "      <td>France</td>\n",
       "      <td>China</td>\n",
       "    </tr>\n",
       "  </tbody>\n",
       "</table>\n",
       "</div>"
      ],
      "text/plain": [
       "     ID                                Name Sex   Age  Height  Weight    Team  \\\n",
       "98   34  Jamale (Djamel-) Aarrass (Ahrass-)   M  30.0   187.0    76.0  France   \n",
       "145  52                       Patrick Abada   M  22.0   189.0    80.0  France   \n",
       "149  56                          Ren Abadie   M  21.0   175.0    71.0  France   \n",
       "150  56                          Ren Abadie   M  21.0   175.0    71.0  France   \n",
       "173  73                           Luc Abalo   M  23.0   182.0    86.0  France   \n",
       "\n",
       "     NOC        Games  Year  Season       City      Sport  \\\n",
       "98   FRA  2012 Summer  2012  Summer     London  Athletics   \n",
       "145  FRA  1976 Summer  1976  Summer   Montreal  Athletics   \n",
       "149  FRA  1956 Summer  1956  Summer  Melbourne    Cycling   \n",
       "150  FRA  1956 Summer  1956  Summer  Melbourne    Cycling   \n",
       "173  FRA  2008 Summer  2008  Summer    Beijing   Handball   \n",
       "\n",
       "                                   Event Medal  region    Host_Country  \n",
       "98          Athletics Men's 1,500 metres   DNW  France  United Kingdom  \n",
       "145           Athletics Men's Pole Vault   DNW  France          Canada  \n",
       "149  Cycling Men's Road Race, Individual   DNW  France       Australia  \n",
       "150        Cycling Men's Road Race, Team  Gold  France       Australia  \n",
       "173              Handball Men's Handball  Gold  France           China  "
      ]
     },
     "execution_count": 118,
     "metadata": {},
     "output_type": "execute_result"
    }
   ],
   "source": [
    "# performance of France for summer \n",
    "France_df = athelete_df[athelete_df['region'] =='France']\n",
    "France_df.head()"
   ]
  },
  {
   "cell_type": "code",
   "execution_count": null,
   "metadata": {},
   "outputs": [],
   "source": []
  }
 ],
 "metadata": {
  "kernelspec": {
   "display_name": "pythonclass",
   "language": "python",
   "name": "python3"
  },
  "language_info": {
   "codemirror_mode": {
    "name": "ipython",
    "version": 3
   },
   "file_extension": ".py",
   "mimetype": "text/x-python",
   "name": "python",
   "nbconvert_exporter": "python",
   "pygments_lexer": "ipython3",
   "version": "3.11.7"
  }
 },
 "nbformat": 4,
 "nbformat_minor": 2
}
